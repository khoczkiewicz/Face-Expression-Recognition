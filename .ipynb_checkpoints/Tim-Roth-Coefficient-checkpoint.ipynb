{
 "cells": [
  {
   "cell_type": "code",
   "execution_count": 3,
   "metadata": {},
   "outputs": [],
   "source": [
    "import numpy as np\n",
    "import cv2\n",
    "\n",
    "import dlib\n",
    "video_capture = cv2.VideoCapture(0) #Webcam object\n",
    "detector = dlib.get_frontal_face_detector() #Face detector\n",
    "predictor = dlib.shape_predictor(\"shape_predictor_68_face_landmarks.dat\") #Landmark identifier. Set the filename to whatever you named the downloaded file\n",
    "\n",
    "img = cv2.imread('tim_roth_images/7173390615_foto-v-pol-lica.jpg')\n",
    "    \n",
    "frame = np.array(img)\n",
    "    \n",
    "# To capture image in monochrome\n",
    "gray = cv2.cvtColor(img, cv2.COLOR_RGBA2GRAY)\n",
    "\n",
    "clahe = cv2.createCLAHE(clipLimit=2.0, tileGridSize=(8,8))\n",
    "clahe_image = clahe.apply(gray)\n",
    "detections = detector(clahe_image, 1) #Detect the faces in the image\n",
    "for k,d in enumerate(detections): #For each detected face\n",
    "    shape = predictor(clahe_image, d) #Get coordinates\n",
    "    for i in range(1,68): #There are 68 landmark points on each face\n",
    "        cv2.circle(frame, (shape.part(i).x, shape.part(i).y), 1, (0,0,255), thickness=2) #For each point, draw a red circle with thickness2 on the original frame\n",
    "cv2.imshow(\"image\", frame) #Display the frame\n",
    "\n",
    "cv2.waitKey(0)\n",
    "cv2.destroyAllWindows()"
   ]
  }
 ],
 "metadata": {
  "kernelspec": {
   "display_name": "Python 3",
   "language": "python",
   "name": "python3"
  },
  "language_info": {
   "codemirror_mode": {
    "name": "ipython",
    "version": 3
   },
   "file_extension": ".py",
   "mimetype": "text/x-python",
   "name": "python",
   "nbconvert_exporter": "python",
   "pygments_lexer": "ipython3",
   "version": "3.6.7"
  }
 },
 "nbformat": 4,
 "nbformat_minor": 2
}
